{
 "cells": [
  {
   "cell_type": "code",
   "execution_count": 6,
   "metadata": {},
   "outputs": [
    {
     "name": "stdout",
     "output_type": "stream",
     "text": [
      "[180, 187, 266, 519, 592, 760, 826, 856]\n",
      "hxRtccZS#5lrb%ltW0pCOLjy7X@npFfcmrA1i D:r1xD3zgvMP.hO,9stC1CX, 7Un##LSLAPOUoJ,rK*sqa%b t2TUBcHFkGYmZ%ia73,H*26j%6RVk#8D*:rn9G0r71, g6vu6yO#3yhhhh$60taAbQs3u@RgER%@Ylf35lzHXD#$sGSZ,oCNvof4pgT695hvOUljP3MVhU71eqmrF%k%Lzq$E0g*8m9kxT*tzLQ7,iBvKtd0Pbv.*p2dZSe4nYxQ%#owqGvem.Re6Ft@x5d@v.hwguOMCFyHazxfK%#hn5 P2waEON:Isa$ly# PBz1j2BlFQlFO7jpet6gK OIMi,3XiRcX0,P9m2ILElOM$qyhAG, 9R1VECAm8ffwT: TB@#Ec#8oh:2v5ono*yyBB:y@zL%7eqHGXNNl@G%.guO%KNkRWvi95H2u0M,V3F @QdZp h1#EOQZRGiX3#*rwusyiV6lm.JNXE.P2P:YHs5I#ohK*5.T9lpgwRQEG:NGxW7TnLAaok4oUFI%qj2: %KTaip 1@s,M3$9*3t42UbLvLdb94XQ7ZQ@NYFT@Qm@y,vLXD2UpYqVpd0xk6V1ZQ1BjDrVBMxN6Fi:saKEYeTtd0mO4zH2TT$OFEAT GT.8qA@y83.ykoC KLhW5STIy05cg*2NF bh%ecp.aox#4,QE,jp:nO7xtWl0bHbF7WS%G2TG,9OhRr7aF:JLv0M6%02#6TTqnOOMMn@q3mWR#DKP8Ur8PWdaX,%GPN7bPEXu9Q8E4R AYPrW,v,s7xnEtHtbwyvKhoJKfn$8goru0jdsZZzQeY1I4yLG#3p9mc2NW9iCbE0O.@s%Ugt,pWfs2cJnZANAIB3V: 8QfQ,mGZXFOQc0gIy fpqR SV8Ca2tKnhrrwAxKdsN6%:LPG:eUZJiPhd.J8 o.n66ABe3YPf$@Gh4$S9.RGtO NWO$3ffMEyW6tMl j.$n,vBE9Kr4T7fcKikA@4 fQG\n"
     ]
    }
   ],
   "source": [
    "from random import choice, sample, seed\n",
    "import string\n",
    "def generate_text(key, text=''):\n",
    "    if not text:\n",
    "        seed(1961)\n",
    "        symbols = string.ascii_letters + string.digits + '.#@$%,:*' + ' '\n",
    "        n_symbols = 1000\n",
    "        text = ''.join([choice(symbols) for _ in range(n_symbols)])\n",
    "    positions = sorted(sample(range(len(text)), k=len(key)))\n",
    "    new_text = ''\n",
    "    for i in range(len(text)):\n",
    "        if i in positions:\n",
    "            new_text+= key[positions.index(i)]\n",
    "        else:\n",
    "            new_text+= text[i]\n",
    "    \n",
    "    print(positions)\n",
    "    print(new_text)\n",
    "\n",
    "generate_text('opendays')"
   ]
  },
  {
   "cell_type": "code",
   "execution_count": 9,
   "metadata": {},
   "outputs": [
    {
     "name": "stdout",
     "output_type": "stream",
     "text": [
      "opendays\n"
     ]
    }
   ],
   "source": [
    "text = 'hxRtccZS#5lrb%ltW0pCOLjy7X@npFfcmrA1i D:r1xD3zgvMP.hO,9stC1CX, 7Un##LSLAPOUoJ,rK*sqa%b t2TUBcHFkGYmZ%ia73,H*26j%6RVk#8D*:rn9G0r71, g6vu6yO#3yhhhh$60taAbQs3u@RgER%@Ylf35lzHXD#$sGSZ,oCNvof4pgT695hvOUljP3MVhU71eqmrF%k%Lzq$E0g*8m9kxT*tzLQ7,iBvKtd0Pbv.*p2dZSe4nYxQ%#owqGvem.Re6Ft@x5d@v.hwguOMCFyHazxfK%#hn5 P2waEON:Isa$ly# PBz1j2BlFQlFO7jpet6gK OIMi,3XiRcX0,P9m2ILElOM$qyhAG, 9R1VECAm8ffwT: TB@#Ec#8oh:2v5ono*yyBB:y@zL%7eqHGXNNl@G%.guO%KNkRWvi95H2u0M,V3F @QdZp h1#EOQZRGiX3#*rwusyiV6lm.JNXE.P2P:YHs5I#ohK*5.T9lpgwRQEG:NGxW7TnLAaok4oUFI%qj2: %KTaip 1@s,M3$9*3t42UbLvLdb94XQ7ZQ@NYFT@Qm@y,vLXD2UpYqVpd0xk6V1ZQ1BjDrVBMxN6Fi:saKEYeTtd0mO4zH2TT$OFEAT GT.8qA@y83.ykoC KLhW5STIy05cg*2NF bh%ecp.aox#4,QE,jp:nO7xtWl0bHbF7WS%G2TG,9OhRr7aF:JLv0M6%02#6TTqnOOMMn@q3mWR#DKP8Ur8PWdaX,%GPN7bPEXu9Q8E4R AYPrW,v,s7xnEtHtbwyvKhoJKfn$8goru0jdsZZzQeY1I4yLG#3p9mc2NW9iCbE0O.@s%Ugt,pWfs2cJnZANAIB3V: 8QfQ,mGZXFOQc0gIy fpqR SV8Ca2tKnhrrwAxKdsN6%:LPG:eUZJiPhd.J8 o.n66ABe3YPf$@Gh4$S9.RGtO NWO$3ffMEyW6tMl j.$n,vBE9Kr4T7fcKikA@4 fQG'\n",
    "positions = [180, 187, 266, 519, 592, 760, 826, 856]\n",
    "key = ''.join([ text[pos] for pos in positions])\n",
    "print(key)"
   ]
  },
  {
   "cell_type": "code",
   "execution_count": 8,
   "metadata": {},
   "outputs": [
    {
     "data": {
      "text/plain": [
       "'opendays'"
      ]
     },
     "execution_count": 8,
     "metadata": {},
     "output_type": "execute_result"
    }
   ],
   "source": [
    "key"
   ]
  },
  {
   "cell_type": "code",
   "execution_count": null,
   "metadata": {},
   "outputs": [],
   "source": []
  }
 ],
 "metadata": {
  "kernelspec": {
   "display_name": "Python 3",
   "language": "python",
   "name": "python3"
  },
  "language_info": {
   "codemirror_mode": {
    "name": "ipython",
    "version": 3
   },
   "file_extension": ".py",
   "mimetype": "text/x-python",
   "name": "python",
   "nbconvert_exporter": "python",
   "pygments_lexer": "ipython3",
   "version": "3.11.0"
  },
  "orig_nbformat": 4
 },
 "nbformat": 4,
 "nbformat_minor": 2
}
