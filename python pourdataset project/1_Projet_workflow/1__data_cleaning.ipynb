{
 "cells": [
  {
   "cell_type": "code",
   "execution_count": 24,
   "metadata": {},
   "outputs": [],
   "source": [
    "import json\n",
    "import os"
   ]
  },
  {
   "cell_type": "code",
   "execution_count": 25,
   "metadata": {},
   "outputs": [],
   "source": [
    "jd_loc = r'data_json'\n",
    "njd_loc = r'data_js\\data'\n",
    "classes = ['car', 'fish', 'house', 'tree', 'bicycle', 'guitar', 'pencil', 'clock']\n",
    "DATA = { c : dict() for c in classes }"
   ]
  },
  {
   "cell_type": "code",
   "execution_count": 26,
   "metadata": {},
   "outputs": [],
   "source": [
    "def turn_jsonData_to_jsData(jf_loc, name):\n",
    "    with open(jf_loc, 'r') as file:\n",
    "        jf = json.load(file)\n",
    "        for c in classes:\n",
    "            shape = jf.get('drawings').get(c)\n",
    "            DATA[c][name] = shape"
   ]
  },
  {
   "cell_type": "code",
   "execution_count": 27,
   "metadata": {},
   "outputs": [],
   "source": [
    "def create_js_file(_class):\n",
    "    data = DATA[_class]\n",
    "    with open(os.path.join(njd_loc, _class+'.js'), 'w') as file:\n",
    "        file.write(f'{_class} = {data}')"
   ]
  },
  {
   "cell_type": "code",
   "execution_count": 28,
   "metadata": {},
   "outputs": [
    {
     "name": "stdout",
     "output_type": "stream",
     "text": [
      "Exception : 5/715 : 101.json)\n",
      "Exception : 71/715 : 161.json)\n",
      "Exception : 77/715 : 167.json5)\n",
      "Exception : 127/715 : 211.json5)\n",
      "Transforming data: 100% (715/715)\r"
     ]
    }
   ],
   "source": [
    "jf_names = os.listdir(jd_loc)\n",
    "for n, jf_name in enumerate(jf_names):\n",
    "    jf_loc = os.path.join(jd_loc, jf_name)\n",
    "    try : \n",
    "        print(f'Transforming data: {int(100*((n+1) / len(jf_names)))}% ({n+1}/{len(jf_names)})', end='\\r')\n",
    "        turn_jsonData_to_jsData(jf_loc, jf_name.replace('.json', ''))\n",
    "    except : \n",
    "        print(\"Exception :\", f'{n+1}/{len(jf_names)} : {jf_name}')"
   ]
  },
  {
   "cell_type": "code",
   "execution_count": 29,
   "metadata": {},
   "outputs": [],
   "source": [
    "for c in classes:\n",
    "    create_js_file(c)"
   ]
  },
  {
   "cell_type": "code",
   "execution_count": null,
   "metadata": {},
   "outputs": [],
   "source": []
  }
 ],
 "metadata": {
  "kernelspec": {
   "display_name": "base",
   "language": "python",
   "name": "python3"
  },
  "language_info": {
   "codemirror_mode": {
    "name": "ipython",
    "version": 3
   },
   "file_extension": ".py",
   "mimetype": "text/x-python",
   "name": "python",
   "nbconvert_exporter": "python",
   "pygments_lexer": "ipython3",
   "version": "3.11.0"
  }
 },
 "nbformat": 4,
 "nbformat_minor": 2
}
