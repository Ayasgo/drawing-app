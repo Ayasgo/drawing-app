{
 "cells": [
  {
   "cell_type": "code",
   "execution_count": 1,
   "metadata": {},
   "outputs": [],
   "source": [
    "from sklearn.neighbors import KNeighborsClassifier\n",
    "from sklearn.model_selection import train_test_split\n",
    "from sklearn.preprocessing import LabelEncoder\n",
    "import pandas as pd\n",
    "\n"
   ]
  },
  {
   "cell_type": "code",
   "execution_count": 15,
   "metadata": {},
   "outputs": [
    {
     "data": {
      "text/html": [
       "<div>\n",
       "<style scoped>\n",
       "    .dataframe tbody tr th:only-of-type {\n",
       "        vertical-align: middle;\n",
       "    }\n",
       "\n",
       "    .dataframe tbody tr th {\n",
       "        vertical-align: top;\n",
       "    }\n",
       "\n",
       "    .dataframe thead th {\n",
       "        text-align: right;\n",
       "    }\n",
       "</style>\n",
       "<table border=\"1\" class=\"dataframe\">\n",
       "  <thead>\n",
       "    <tr style=\"text-align: right;\">\n",
       "      <th></th>\n",
       "      <th>n_paths</th>\n",
       "      <th>n_points</th>\n",
       "      <th>width</th>\n",
       "      <th>height</th>\n",
       "      <th>elongation</th>\n",
       "      <th>roundness</th>\n",
       "      <th>class</th>\n",
       "    </tr>\n",
       "  </thead>\n",
       "  <tbody>\n",
       "    <tr>\n",
       "      <th>0</th>\n",
       "      <td>5</td>\n",
       "      <td>883</td>\n",
       "      <td>258</td>\n",
       "      <td>104</td>\n",
       "      <td>2.466667</td>\n",
       "      <td>0.596899</td>\n",
       "      <td>car</td>\n",
       "    </tr>\n",
       "    <tr>\n",
       "      <th>1</th>\n",
       "      <td>4</td>\n",
       "      <td>596</td>\n",
       "      <td>241</td>\n",
       "      <td>70</td>\n",
       "      <td>3.408451</td>\n",
       "      <td>0.709544</td>\n",
       "      <td>fish</td>\n",
       "    </tr>\n",
       "    <tr>\n",
       "      <th>2</th>\n",
       "      <td>8</td>\n",
       "      <td>571</td>\n",
       "      <td>174</td>\n",
       "      <td>166</td>\n",
       "      <td>1.047904</td>\n",
       "      <td>0.045977</td>\n",
       "      <td>house</td>\n",
       "    </tr>\n",
       "    <tr>\n",
       "      <th>3</th>\n",
       "      <td>3</td>\n",
       "      <td>575</td>\n",
       "      <td>163</td>\n",
       "      <td>272</td>\n",
       "      <td>1.664634</td>\n",
       "      <td>0.400735</td>\n",
       "      <td>tree</td>\n",
       "    </tr>\n",
       "    <tr>\n",
       "      <th>4</th>\n",
       "      <td>5</td>\n",
       "      <td>586</td>\n",
       "      <td>212</td>\n",
       "      <td>140</td>\n",
       "      <td>1.510638</td>\n",
       "      <td>0.339623</td>\n",
       "      <td>bicycle</td>\n",
       "    </tr>\n",
       "    <tr>\n",
       "      <th>5</th>\n",
       "      <td>6</td>\n",
       "      <td>1214</td>\n",
       "      <td>228</td>\n",
       "      <td>218</td>\n",
       "      <td>1.045662</td>\n",
       "      <td>0.043860</td>\n",
       "      <td>guitar</td>\n",
       "    </tr>\n",
       "    <tr>\n",
       "      <th>6</th>\n",
       "      <td>5</td>\n",
       "      <td>527</td>\n",
       "      <td>96</td>\n",
       "      <td>268</td>\n",
       "      <td>2.773196</td>\n",
       "      <td>0.641791</td>\n",
       "      <td>pencil</td>\n",
       "    </tr>\n",
       "    <tr>\n",
       "      <th>7</th>\n",
       "      <td>3</td>\n",
       "      <td>588</td>\n",
       "      <td>237</td>\n",
       "      <td>220</td>\n",
       "      <td>1.076923</td>\n",
       "      <td>0.071730</td>\n",
       "      <td>clock</td>\n",
       "    </tr>\n",
       "    <tr>\n",
       "      <th>8</th>\n",
       "      <td>7</td>\n",
       "      <td>715</td>\n",
       "      <td>260</td>\n",
       "      <td>114</td>\n",
       "      <td>2.269565</td>\n",
       "      <td>0.561538</td>\n",
       "      <td>car</td>\n",
       "    </tr>\n",
       "    <tr>\n",
       "      <th>9</th>\n",
       "      <td>3</td>\n",
       "      <td>361</td>\n",
       "      <td>206</td>\n",
       "      <td>76</td>\n",
       "      <td>2.688312</td>\n",
       "      <td>0.631068</td>\n",
       "      <td>fish</td>\n",
       "    </tr>\n",
       "    <tr>\n",
       "      <th>10</th>\n",
       "      <td>7</td>\n",
       "      <td>455</td>\n",
       "      <td>195</td>\n",
       "      <td>177</td>\n",
       "      <td>1.101124</td>\n",
       "      <td>0.092308</td>\n",
       "      <td>house</td>\n",
       "    </tr>\n",
       "    <tr>\n",
       "      <th>11</th>\n",
       "      <td>3</td>\n",
       "      <td>520</td>\n",
       "      <td>234</td>\n",
       "      <td>291</td>\n",
       "      <td>1.242553</td>\n",
       "      <td>0.195876</td>\n",
       "      <td>tree</td>\n",
       "    </tr>\n",
       "    <tr>\n",
       "      <th>12</th>\n",
       "      <td>6</td>\n",
       "      <td>500</td>\n",
       "      <td>246</td>\n",
       "      <td>145</td>\n",
       "      <td>1.691781</td>\n",
       "      <td>0.410569</td>\n",
       "      <td>bicycle</td>\n",
       "    </tr>\n",
       "    <tr>\n",
       "      <th>13</th>\n",
       "      <td>6</td>\n",
       "      <td>1034</td>\n",
       "      <td>241</td>\n",
       "      <td>233</td>\n",
       "      <td>1.034188</td>\n",
       "      <td>0.033195</td>\n",
       "      <td>guitar</td>\n",
       "    </tr>\n",
       "    <tr>\n",
       "      <th>14</th>\n",
       "      <td>5</td>\n",
       "      <td>357</td>\n",
       "      <td>177</td>\n",
       "      <td>222</td>\n",
       "      <td>1.252809</td>\n",
       "      <td>0.202703</td>\n",
       "      <td>pencil</td>\n",
       "    </tr>\n",
       "  </tbody>\n",
       "</table>\n",
       "</div>"
      ],
      "text/plain": [
       "    n_paths  n_points  width  height  elongation  roundness    class\n",
       "0         5       883    258     104    2.466667   0.596899      car\n",
       "1         4       596    241      70    3.408451   0.709544     fish\n",
       "2         8       571    174     166    1.047904   0.045977    house\n",
       "3         3       575    163     272    1.664634   0.400735     tree\n",
       "4         5       586    212     140    1.510638   0.339623  bicycle\n",
       "5         6      1214    228     218    1.045662   0.043860   guitar\n",
       "6         5       527     96     268    2.773196   0.641791   pencil\n",
       "7         3       588    237     220    1.076923   0.071730    clock\n",
       "8         7       715    260     114    2.269565   0.561538      car\n",
       "9         3       361    206      76    2.688312   0.631068     fish\n",
       "10        7       455    195     177    1.101124   0.092308    house\n",
       "11        3       520    234     291    1.242553   0.195876     tree\n",
       "12        6       500    246     145    1.691781   0.410569  bicycle\n",
       "13        6      1034    241     233    1.034188   0.033195   guitar\n",
       "14        5       357    177     222    1.252809   0.202703   pencil"
      ]
     },
     "execution_count": 15,
     "metadata": {},
     "output_type": "execute_result"
    }
   ],
   "source": [
    "data_loc = r'csv\\data.csv'\n",
    "data = pd.read_csv(data_loc)\n",
    "data.head(n=15)"
   ]
  },
  {
   "cell_type": "code",
   "execution_count": 4,
   "metadata": {},
   "outputs": [],
   "source": [
    "classes = ['car', 'fish', 'house', 'tree', 'bicycle', 'guitar', 'pencil', 'clock']\n",
    "X = data.drop( columns= 'class')\n",
    "y = data['class']"
   ]
  },
  {
   "cell_type": "code",
   "execution_count": 5,
   "metadata": {},
   "outputs": [],
   "source": [
    "label_encoder = LabelEncoder()\n",
    "y = label_encoder.fit_transform(y)"
   ]
  },
  {
   "cell_type": "code",
   "execution_count": 6,
   "metadata": {},
   "outputs": [],
   "source": [
    "X_train, X_test, y_train, y_test = train_test_split(\n",
    "    X, y,\n",
    "    random_state= 23,\n",
    "    test_size= .2,\n",
    "    stratify= y\n",
    ")"
   ]
  },
  {
   "cell_type": "code",
   "execution_count": 13,
   "metadata": {},
   "outputs": [
    {
     "data": {
      "text/plain": [
       "KNeighborsClassifier(n_neighbors=10)"
      ]
     },
     "execution_count": 13,
     "metadata": {},
     "output_type": "execute_result"
    }
   ],
   "source": [
    "knn = KNeighborsClassifier(n_neighbors= 10)\n",
    "knn.fit(X_train, y_train)"
   ]
  },
  {
   "cell_type": "code",
   "execution_count": 14,
   "metadata": {},
   "outputs": [
    {
     "name": "stderr",
     "output_type": "stream",
     "text": [
      "c:\\Users\\Aymane\\anaconda3\\lib\\site-packages\\sklearn\\neighbors\\_classification.py:228: FutureWarning: Unlike other reduction functions (e.g. `skew`, `kurtosis`), the default behavior of `mode` typically preserves the axis it acts along. In SciPy 1.11.0, this behavior will change: the default value of `keepdims` will become False, the `axis` over which the statistic is taken will be eliminated, and the value None will no longer be accepted. Set `keepdims` to True or False to avoid this warning.\n",
      "  mode, _ = stats.mode(_y[neigh_ind, k], axis=1)\n"
     ]
    },
    {
     "data": {
      "text/plain": [
       "0.41241890639481"
      ]
     },
     "execution_count": 14,
     "metadata": {},
     "output_type": "execute_result"
    }
   ],
   "source": [
    "knn.score(X_test, y_test)"
   ]
  },
  {
   "cell_type": "code",
   "execution_count": null,
   "metadata": {},
   "outputs": [],
   "source": []
  }
 ],
 "metadata": {
  "kernelspec": {
   "display_name": "Python 3",
   "language": "python",
   "name": "python3"
  },
  "language_info": {
   "codemirror_mode": {
    "name": "ipython",
    "version": 3
   },
   "file_extension": ".py",
   "mimetype": "text/x-python",
   "name": "python",
   "nbconvert_exporter": "python",
   "pygments_lexer": "ipython3",
   "version": "3.9.13"
  }
 },
 "nbformat": 4,
 "nbformat_minor": 2
}
