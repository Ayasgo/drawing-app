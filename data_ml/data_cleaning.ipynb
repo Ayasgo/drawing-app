{
 "cells": [
  {
   "cell_type": "code",
   "execution_count": 1,
   "metadata": {},
   "outputs": [],
   "source": [
    "import json\n",
    "import os"
   ]
  },
  {
   "cell_type": "code",
   "execution_count": 8,
   "metadata": {},
   "outputs": [],
   "source": [
    "jd_loc = r'json'\n",
    "njd_loc = r'data_js' # Le nom du fichier où on va enregistrer les données de type js\n",
    "classes = ['car.js', 'fish.js', 'house.js', 'tree.js', 'bicycle.js', 'guitar.js', 'pencil.js', 'clock.js']\n",
    "DATA = { c : dict() for c in classes }"
   ]
  },
  {
   "cell_type": "code",
   "execution_count": 9,
   "metadata": {},
   "outputs": [],
   "source": [
    "def turn_jsonData_to_jsData(jf_loc, name):\n",
    "    with open(jf_loc, 'r') as file:\n",
    "        jf = json.load(file)\n",
    "        for c in classes:\n",
    "            shape = jf.get('drawings').get(c)\n",
    "            DATA[c][name] = shape"
   ]
  },
  {
   "cell_type": "code",
   "execution_count": 10,
   "metadata": {},
   "outputs": [],
   "source": [
    "def create_js_file_for_class(_class): # class signifie car, fich, ...\n",
    "    data = DATA[_class]\n",
    "    with open(os.path.join(njd_loc, _class+'.js'), 'w') as file:\n",
    "        file.write(f'{_class} = {data}')"
   ]
  },
  {
   "cell_type": "code",
   "execution_count": 11,
   "metadata": {},
   "outputs": [
    {
     "name": "stdout",
     "output_type": "stream",
     "text": [
      "Transforming data: 100% (716/716)\r"
     ]
    }
   ],
   "source": [
    "jf_names = os.listdir(jd_loc)\n",
    "for n, jf_name in enumerate(jf_names):\n",
    "    jf_loc = os.path.join(jd_loc, jf_name)\n",
    "    try : \n",
    "        print(f'Transforming data: {int(100*((n+1) / len(jf_names)))}% ({n+1}/{len(jf_names)})', end='\\r')\n",
    "        turn_jsonData_to_jsData(jf_loc, jf_name.replace('.json', ''))\n",
    "    except : \n",
    "        print(\"Exception :\", f'{n+1}/{len(jf_names)} : {jf_name}')"
   ]
  },
  {
   "cell_type": "code",
   "execution_count": 12,
   "metadata": {},
   "outputs": [],
   "source": [
    "for c in classes:\n",
    "    create_js_file_for_class(c)"
   ]
  },
  {
   "cell_type": "code",
   "execution_count": null,
   "metadata": {},
   "outputs": [],
   "source": []
  }
 ],
 "metadata": {
  "kernelspec": {
   "display_name": "base",
   "language": "python",
   "name": "python3"
  },
  "language_info": {
   "codemirror_mode": {
    "name": "ipython",
    "version": 3
   },
   "file_extension": ".py",
   "mimetype": "text/x-python",
   "name": "python",
   "nbconvert_exporter": "python",
   "pygments_lexer": "ipython3",
   "version": "3.11.0"
  }
 },
 "nbformat": 4,
 "nbformat_minor": 2
}
