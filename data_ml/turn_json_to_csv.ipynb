{
 "cells": [
  {
   "cell_type": "code",
   "execution_count": 1,
   "metadata": {},
   "outputs": [],
   "source": [
    "from json import load\n",
    "import os\n",
    "import csv"
   ]
  },
  {
   "cell_type": "code",
   "execution_count": 2,
   "metadata": {},
   "outputs": [],
   "source": [
    "jd_loc = r'json'\n",
    "cd_loc = r'csv\\data.csv'\n",
    "classes = ['car', 'fish', 'house', 'tree', 'bicycle', 'guitar', 'pencil', 'clock']\n",
    "DATA = []"
   ]
  },
  {
   "cell_type": "code",
   "execution_count": 3,
   "metadata": {},
   "outputs": [],
   "source": [
    "def get_n_paths(shape):\n",
    "    return len(shape)\n",
    "\n",
    "def get_n_points(shape):\n",
    "    return sum( len(path) for path in shape )\n",
    "\n",
    "info = {\n",
    "    'n_paths': get_n_paths,\n",
    "    'n_points' : get_n_points,\n",
    "    # class\n",
    "}\n",
    "DATA.append(\n",
    "    list(info.keys()) + [ 'class' ]\n",
    ")"
   ]
  },
  {
   "cell_type": "code",
   "execution_count": 4,
   "metadata": {},
   "outputs": [],
   "source": [
    "def turn_jd_to_cd(jf_loc):\n",
    "    with open(jf_loc, 'r') as file:\n",
    "        jf = load(file)\n",
    "        for _class in classes:\n",
    "            l = [] \n",
    "            shape = jf.get('drawings').get(_class)\n",
    "            for _, info_func in info.items():\n",
    "                l.append(info_func(shape))\n",
    "            l.append(_class) # class\n",
    "            DATA.append(l)"
   ]
  },
  {
   "cell_type": "code",
   "execution_count": 5,
   "metadata": {},
   "outputs": [
    {
     "name": "stdout",
     "output_type": "stream",
     "text": [
      "Exception : 102/716 : 1663864656131.json\n",
      "Exception : 162/716 : 1663884766543.json\n",
      "Exception : 168/716 : 1663888951460.json\n",
      "Exception : 212/716 : 1663920270321.json\n",
      " 100% : (716/716)\r"
     ]
    }
   ],
   "source": [
    "jf_names = os.listdir(jd_loc)\n",
    "exceptions = []\n",
    "for n, jf_name in enumerate(jf_names):\n",
    "    jf_loc = os.path.join(jd_loc, jf_name)\n",
    "    try : \n",
    "        print(f'Transforming data: {int(100*((n+1) / len(jf_names)))}% ({n+1}/{len(jf_names)})', end='\\r')\n",
    "        turn_jd_to_cd(jf_loc)\n",
    "    except : \n",
    "        print(\"Exception :\", f'{n+1}/{len(jf_names)} : {jf_name}')\n",
    "        exceptions.append(jf_name)"
   ]
  },
  {
   "cell_type": "code",
   "execution_count": 69,
   "metadata": {},
   "outputs": [],
   "source": [
    "# saving Data into a csv file\n",
    "with open(cd_loc, 'w') as file:\n",
    "    writer = csv.writer(file, lineterminator='\\n')\n",
    "    writer.writerows(DATA)"
   ]
  },
  {
   "cell_type": "code",
   "execution_count": 71,
   "metadata": {},
   "outputs": [
    {
     "data": {
      "text/plain": [
       "'<_csv.writer object at 0x00000260BF0D2500>'"
      ]
     },
     "execution_count": 71,
     "metadata": {},
     "output_type": "execute_result"
    }
   ],
   "source": []
  },
  {
   "cell_type": "code",
   "execution_count": null,
   "metadata": {},
   "outputs": [],
   "source": []
  }
 ],
 "metadata": {
  "kernelspec": {
   "display_name": "Python 3",
   "language": "python",
   "name": "python3"
  },
  "language_info": {
   "codemirror_mode": {
    "name": "ipython",
    "version": 3
   },
   "file_extension": ".py",
   "mimetype": "text/x-python",
   "name": "python",
   "nbconvert_exporter": "python",
   "pygments_lexer": "ipython3",
   "version": "3.11.0"
  },
  "orig_nbformat": 4
 },
 "nbformat": 4,
 "nbformat_minor": 2
}
