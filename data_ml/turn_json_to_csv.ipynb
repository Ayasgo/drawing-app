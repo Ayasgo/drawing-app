{
 "cells": [
  {
   "cell_type": "code",
   "execution_count": 1,
   "metadata": {},
   "outputs": [],
   "source": [
    "from json import load\n",
    "import numpy as np\n",
    "from scipy.spatial import ConvexHull\n",
    "import os\n",
    "import csv"
   ]
  },
  {
   "cell_type": "code",
   "execution_count": 8,
   "metadata": {},
   "outputs": [],
   "source": [
    "jd_loc = r'json'\n",
    "cd_loc = r'csv\\data.csv'\n",
    "classes = ['car', 'fish', 'house', 'tree', 'bicycle', 'guitar', 'pencil', 'clock']\n",
    "DATA = []"
   ]
  },
  {
   "cell_type": "code",
   "execution_count": 9,
   "metadata": {},
   "outputs": [],
   "source": [
    "data_to_remove = {'car': [70, 82, 88, 100, 106, 110, 170, 201, 225, 242, 246, 285, 308, 338, 385, 399, 403, 422, 428, 430, 442, 449, 461, 462, 477, 501, 576, 582, 601, 614, 608, 609, 616, 619, 620, 656, 657, 653, 670, 676, 673, 697], 'fish': [44, 54, 82, 100, 105, 111, 170, 201, 252, 282, 331, 337, 349, 399, 422, 428, 442, 461, 464, 462, 471, 477, 482, 501, 576, 581, 608, 609, 616, 655, 668, 678, 676, 701, 698], 'house': [42, 47, 54, 80, 85, 100, 151, 164, 170, 197, 198, 201, 203, 252, 259, 325, 331, 340, 358, 385, 399, 388, 422, 425, 442, 461, 462, 482, 484, 499, 526, 551, 550, 559, 576, 565, 604, 608, 609, 616, 619, 655, 657, 676, 686, 698, 703], 'tree': [54, 82, 170, 252, 294, 313, 331, 385, 422, 428, 433, 442, 448, 454, 461, 466, 462, 483, 500, 550, 608, 609, 619, 616, 657, 652, 670, 692, 703, 698, 699], 'bicycle': [698, 703, 47, 54, 65, 82, 100, 166, 170, 190, 287, 331, 399, 422, 428, 442, 462, 500, 584, 587, 576, 608, 609, 616, 646, 657, 670, 673, 678, 676, 692], 'guitar': [8, 9, 54, 72, 111, 170, 245, 252, 259, 358, 372, 385, 428, 427, 461, 462, 484, 576, 608, 609, 616, 618, 652, 656, 657, 653, 661, 676, 673, 678, 688, 686, 698, 706], 'pencil': [9, 27, 57, 54, 157, 161, 170, 185, 253, 344, 348, 422, 424, 442, 462, 461, 500, 576, 601, 608, 609, 619, 616, 620, 624, 650, 652, 656, 657, 670, 673, 676, 683, 678, 692], 'clock': [711, 36, 54, 70, 75, 79, 116, 142, 161, 254, 256, 258, 344, 348, 385, 399, 422, 424, 427, 442, 461, 462, 477, 500, 535, 608, 609, 616, 619, 620, 625, 628, 649, 656, 657, 673, 670, 676, 678, 693, 713]}"
   ]
  },
  {
   "cell_type": "code",
   "execution_count": null,
   "metadata": {},
   "outputs": [],
   "source": [
    "def get_n_paths(shape):\n",
    "    return len(shape)\n",
    "\n",
    "def get_n_points(shape):\n",
    "    return sum( len(path) for path in shape )\n",
    "\n",
    "def get_width(shape):\n",
    "    x_min = float('inf')\n",
    "    x_max = -float('inf')\n",
    "\n",
    "    for path in shape:\n",
    "        for point in path:\n",
    "            x,y = point\n",
    "            x_min = min(x, x_min)\n",
    "            x_max = max(x, x_max)\n",
    "\n",
    "    return x_max - x_min\n",
    "\n",
    "def get_height(shape):\n",
    "    y_min = float('inf')\n",
    "    y_max = -float('inf')\n",
    "\n",
    "    for path in shape:\n",
    "        for point in path:\n",
    "            x,y = point\n",
    "            y_min = min(y, y_min)\n",
    "            y_max = max(y, y_max)\n",
    "\n",
    "    return y_max - y_min\n",
    "\n",
    "def get_elongation(shape):\n",
    "    w, h = get_width(shape), get_height(shape)\n",
    "    return (1 + max(w, h)) / (1 + min(w, h))\n",
    "\n",
    "\n",
    "def get_roundness(shape):\n",
    "    points = [ [point[0], 400-point[1]] for path in shape for point in path ]\n",
    "    # Exemple de points\n",
    "    points = np.array(points)\n",
    "\n",
    "    # Calculer le rectangle englobant minimal\n",
    "    hull = ConvexHull(points)\n",
    "\n",
    "    # Dimensions du rectangle englobant\n",
    "    width = np.max(hull.points[hull.vertices, 0]) - np.min(hull.points[hull.vertices, 0])\n",
    "    height = np.max(hull.points[hull.vertices, 1]) - np.min(hull.points[hull.vertices, 1])\n",
    "\n",
    "    # Calculer le roundness (circularité) en utilisant l'aspect ratio\n",
    "    r = (width+height)/np.pi\n",
    "    roundness = (1 + width*height)/(1+ np.pi*r**2)\n",
    "\n",
    "    return roundness\n",
    "\n",
    "info = {\n",
    "    'n_paths': get_n_paths,\n",
    "    'n_points' : get_n_points,\n",
    "    'width' : get_width,\n",
    "    'height' : get_height,\n",
    "    'elongation' : get_elongation,\n",
    "    'roundness' : get_roundness,\n",
    "    # class\n",
    "}\n",
    "DATA.append(\n",
    "    list(info.keys()) + [ 'class' ]\n",
    ")"
   ]
  },
  {
   "cell_type": "code",
   "execution_count": null,
   "metadata": {},
   "outputs": [],
   "source": [
    "def turn_jd_to_cd(jf_loc, jf_name):\n",
    "    with open(jf_loc, 'r') as file:\n",
    "        jf = load(file)\n",
    "        for _class in classes:\n",
    "            if int(jf_name.replace('.json','')) in data_to_remove[_class]:\n",
    "                continue\n",
    "\n",
    "            l = [] \n",
    "            shape = jf.get('drawings').get(_class)\n",
    "            for _, info_func in info.items():\n",
    "                l.append(info_func(shape))\n",
    "            l.append(_class) # class\n",
    "            DATA.append(l)"
   ]
  },
  {
   "cell_type": "code",
   "execution_count": 16,
   "metadata": {},
   "outputs": [
    {
     "name": "stdout",
     "output_type": "stream",
     "text": [
      "Exception : 5/716 : 101.json)\n",
      "Exception : 71/716 : 161.json)\n",
      "Exception : 77/716 : 167.json6)\n",
      "Exception : 127/716 : 211.json6)\n",
      "Exception : 643/716 : 677.json6)\n",
      "Transforming data: 95% (681/716)\r"
     ]
    },
    {
     "ename": "TypeError",
     "evalue": "remove: path should be string, bytes or os.PathLike, not NoneType",
     "output_type": "error",
     "traceback": [
      "\u001b[1;31m---------------------------------------------------------------------------\u001b[0m",
      "\u001b[1;31mTypeError\u001b[0m                                 Traceback (most recent call last)",
      "File \u001b[1;32mmessagestream.pyx:91\u001b[0m, in \u001b[0;36mscipy._lib.messagestream.MessageStream.close\u001b[1;34m()\u001b[0m\n",
      "\u001b[1;31mTypeError\u001b[0m: remove: path should be string, bytes or os.PathLike, not NoneType"
     ]
    },
    {
     "ename": "",
     "evalue": "",
     "output_type": "error",
     "traceback": [
      "\u001b[1;31mThe Kernel crashed while executing code in the the current cell or a previous cell. Please review the code in the cell(s) to identify a possible cause of the failure. Click <a href='https://aka.ms/vscodeJupyterKernelCrash'>here</a> for more info. View Jupyter <a href='command:jupyter.viewOutput'>log</a> for further details."
     ]
    }
   ],
   "source": [
    "jf_names = os.listdir(jd_loc)\n",
    "exceptions = []\n",
    "for n, jf_name in enumerate(jf_names):\n",
    "    jf_loc = os.path.join(jd_loc, jf_name)\n",
    "    try : \n",
    "        print(f'Transforming data: {int(100*((n+1) / len(jf_names)))}% ({n+1}/{len(jf_names)})', end='\\r')\n",
    "        turn_jd_to_cd(jf_loc, jf_name)\n",
    "    except : \n",
    "        print(\"Exception :\", f'{n+1}/{len(jf_names)} : {jf_name}')\n",
    "        exceptions.append(jf_name)"
   ]
  },
  {
   "cell_type": "code",
   "execution_count": 13,
   "metadata": {},
   "outputs": [],
   "source": [
    "# saving Data into a csv file\n",
    "with open(cd_loc, 'w') as file:\n",
    "    writer = csv.writer(file, lineterminator='\\n')\n",
    "    writer.writerows(DATA)"
   ]
  },
  {
   "cell_type": "code",
   "execution_count": null,
   "metadata": {},
   "outputs": [],
   "source": []
  }
 ],
 "metadata": {
  "kernelspec": {
   "display_name": "Python 3",
   "language": "python",
   "name": "python3"
  },
  "language_info": {
   "codemirror_mode": {
    "name": "ipython",
    "version": 3
   },
   "file_extension": ".py",
   "mimetype": "text/x-python",
   "name": "python",
   "nbconvert_exporter": "python",
   "pygments_lexer": "ipython3",
   "version": "3.11.0"
  },
  "orig_nbformat": 4
 },
 "nbformat": 4,
 "nbformat_minor": 2
}
